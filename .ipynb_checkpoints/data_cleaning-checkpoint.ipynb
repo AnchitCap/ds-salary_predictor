{
 "cells": [
  {
   "cell_type": "code",
   "execution_count": 65,
   "metadata": {
    "scrolled": true
   },
   "outputs": [],
   "source": [
    "import pandas as pd\n",
    "\n",
    "df = pd.read_csv(\"glassdoor_jobs.csv\")"
   ]
  },
  {
   "cell_type": "code",
   "execution_count": 66,
   "metadata": {
    "scrolled": false
   },
   "outputs": [],
   "source": [
    "#-------------salary parse-------------------\n",
    "\n",
    "#remove -1 salary\n",
    "df = df[df['Salary Estimate'] != '-1']\n",
    "\n",
    "#remove 'per hour' and 'employer provided salary'\n",
    "df['hourly'] = df['Salary Estimate'].apply(lambda x: 1 if 'per hour' in x.lower() else 0)\n",
    "df['employee_provided'] = df['Salary Estimate'].apply(lambda x: 1 if 'employer provided salary:' in x.lower() else 0)\n",
    "\n",
    "# remove dollar signs and 'glasdoor'\n",
    "salary = df['Salary Estimate'].apply(lambda x: x.split('(')[0])\n",
    "salary_minus_kd = salary.apply(lambda x:x.replace('K','').replace('$',''))\n",
    "\n",
    "salary_minus_hr = salary_minus_kd.apply(lambda x: x.lower().replace('per hour','').replace('employee provided salary:',''))\n",
    "\n",
    "df['min_salary'] = salary_minus_hr.apply(lambda x : int(x.split('-')[0]))\n",
    "df['max_salary'] = salary_minus_hr.apply(lambda x : int(x.split('-')[1]))\n",
    "df['avg_salary'] = (df['min_salary'] + df['max_salary'])/2"
   ]
  },
  {
   "cell_type": "code",
   "execution_count": 67,
   "metadata": {
    "scrolled": true
   },
   "outputs": [],
   "source": [
    "#---------------------company name text only -----------------------------\n",
    "df['company_txt'] = df.apply(lambda x: x['Company Name'] if x['Rating'] < 0 else x['Company Name'][:-3], axis =1)"
   ]
  },
  {
   "cell_type": "code",
   "execution_count": 68,
   "metadata": {
    "scrolled": false
   },
   "outputs": [],
   "source": [
    "#------------------- state field ----------------------------------------\n",
    "\n",
    "df['job_state'] = df['Location'].apply(lambda x: x.split(',')[1])\n",
    "df['same_state'] = df.apply(lambda x: 1 if x['Location'] == x['Headquarters'] else 0,axis=1)"
   ]
  },
  {
   "cell_type": "code",
   "execution_count": 69,
   "metadata": {},
   "outputs": [],
   "source": [
    "#--------------------age of the company----------------------------------\n",
    "\n",
    "df['age'] = df['Founded'].apply(lambda x : x if x < 1 else 2020-x)"
   ]
  },
  {
   "cell_type": "code",
   "execution_count": 70,
   "metadata": {},
   "outputs": [],
   "source": [
    "#--------------------parse job description ------------------------------\n",
    "# r studio | python | spark | excel\n",
    "\n",
    "skills = ['r-studio','python','spark','excel']\n",
    "for skill in skills :\n",
    "    df[skill+'_yn'] = df['Job Description'].apply(lambda x: 1 if skill in x.lower() else 0)"
   ]
  },
  {
   "cell_type": "code",
   "execution_count": 71,
   "metadata": {},
   "outputs": [],
   "source": [
    "df.to_csv('salary_data_cleaned.csv',index = False)\n",
    "\n",
    "#complete--"
   ]
  },
  {
   "cell_type": "code",
   "execution_count": 58,
   "metadata": {},
   "outputs": [
    {
     "data": {
      "text/plain": [
       "Index(['Job Title', 'Salary Estimate', 'Job Description', 'Rating',\n",
       "       'Company Name', 'Location', 'Headquarters', 'Size', 'Founded',\n",
       "       'Type of ownership', 'Industry', 'Sector', 'Revenue', 'Competitors',\n",
       "       'hourly', 'employee_provided', 'min_salary', 'max_salary', 'avg_salary',\n",
       "       'company_txt', 'job_state', 'same_state', 'age', 'python_yn', 'R_yn',\n",
       "       'spark_yn', 'excel_yn'],\n",
       "      dtype='object')"
      ]
     },
     "execution_count": 58,
     "metadata": {},
     "output_type": "execute_result"
    }
   ],
   "source": []
  },
  {
   "cell_type": "code",
   "execution_count": null,
   "metadata": {},
   "outputs": [],
   "source": []
  }
 ],
 "metadata": {
  "kernelspec": {
   "display_name": "Python 3",
   "language": "python",
   "name": "python3"
  },
  "language_info": {
   "codemirror_mode": {
    "name": "ipython",
    "version": 3
   },
   "file_extension": ".py",
   "mimetype": "text/x-python",
   "name": "python",
   "nbconvert_exporter": "python",
   "pygments_lexer": "ipython3",
   "version": "3.9.1"
  }
 },
 "nbformat": 4,
 "nbformat_minor": 4
}
